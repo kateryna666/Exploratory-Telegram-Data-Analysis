{
 "cells": [
  {
   "cell_type": "markdown",
   "id": "680ac1fd",
   "metadata": {},
   "source": [
    "## Homework #6. Behaviour exploration improvement\n",
    "#### Author: Kateryna Steshenko\n",
    "#### Total time spent on h/w (in minutes): 300"
   ]
  },
  {
   "cell_type": "markdown",
   "id": "07b4d758",
   "metadata": {},
   "source": [
    "Структуризація датасету у формат таблиць за допомогою pandas:"
   ]
  },
  {
   "cell_type": "code",
   "execution_count": 16,
   "id": "09b4e301",
   "metadata": {},
   "outputs": [],
   "source": [
    "import pandas as pd\n",
    "import matplotlib.pyplot as plt\n",
    "import numpy as np\n",
    "import re"
   ]
  },
  {
   "cell_type": "code",
   "execution_count": 17,
   "id": "d076df7c",
   "metadata": {},
   "outputs": [],
   "source": [
    "DIALOGS_MERGED_DATA_PATH = \"dialogs_data_all.csv\"\n",
    "DIALOGS_META_MERGED_DATA_PATH = \"dialogs_users_all.csv\""
   ]
  },
  {
   "cell_type": "code",
   "execution_count": 21,
   "id": "ee383eac",
   "metadata": {},
   "outputs": [],
   "source": [
    "def convertFrom(d):\n",
    "    res = []\n",
    "    for t in range(d.shape[0]):\n",
    "        listId = list(map(int, re.findall(r'\\d+', str(d[\"from_id\"].iloc[[t]])[len(str(t)):])))\n",
    "        listUser = list(map(int, re.findall(r'\\d+',str(d[\"users\"].iloc[[t]])[len(str(t)):])))\n",
    "        if len(listId) > 0 and len(listUser) > 0:\n",
    "            from_id = listId[0]\n",
    "            user = listUser[0]\n",
    "            res.append(from_id == user)\n",
    "        else: res.append(False)\n",
    "    return res\n"
   ]
  },
  {
   "cell_type": "code",
   "execution_count": 19,
   "id": "6d0eddab",
   "metadata": {},
   "outputs": [
    {
     "name": "stderr",
     "output_type": "stream",
     "text": [
      "C:\\Users\\User\\AppData\\Local\\Temp\\ipykernel_21192\\1607247470.py:1: DtypeWarning: Columns (4) have mixed types. Specify dtype option on import or set low_memory=False.\n",
      "  df = pd.read_csv(DIALOGS_MERGED_DATA_PATH)\n"
     ]
    }
   ],
   "source": [
    "df = pd.read_csv(DIALOGS_MERGED_DATA_PATH)\n",
    "df_meta = pd.read_csv(DIALOGS_META_MERGED_DATA_PATH)\n",
    "mergedPrivate = df.merge(df_meta[df_meta[\"type\"] == \"Private dialog\"],  how='inner', on='dialog_id')\n",
    "fakeMergedGroup = df.merge(df_meta[df_meta[\"type\"] == \"Group\"],  how='inner', on='dialog_id')\n"
   ]
  },
  {
   "cell_type": "code",
   "execution_count": 22,
   "id": "393d00e0",
   "metadata": {
    "scrolled": true
   },
   "outputs": [
    {
     "ename": "KeyboardInterrupt",
     "evalue": "",
     "output_type": "error",
     "traceback": [
      "\u001b[1;31m---------------------------------------------------------------------------\u001b[0m",
      "\u001b[1;31mKeyboardInterrupt\u001b[0m                         Traceback (most recent call last)",
      "\u001b[1;32m~\\AppData\\Local\\Temp\\ipykernel_21192\\1593333549.py\u001b[0m in \u001b[0;36m<module>\u001b[1;34m\u001b[0m\n\u001b[1;32m----> 1\u001b[1;33m \u001b[0mfakeMergedGroup\u001b[0m\u001b[1;33m[\u001b[0m\u001b[1;34m\"res\"\u001b[0m\u001b[1;33m]\u001b[0m \u001b[1;33m=\u001b[0m \u001b[0mconvertFrom\u001b[0m\u001b[1;33m(\u001b[0m\u001b[0mfakeMergedGroup\u001b[0m\u001b[1;33m)\u001b[0m  \u001b[1;31m#it takes about 30 minutes\u001b[0m\u001b[1;33m\u001b[0m\u001b[1;33m\u001b[0m\u001b[0m\n\u001b[0m\u001b[0;32m      2\u001b[0m \u001b[0mmergedGroup\u001b[0m \u001b[1;33m=\u001b[0m \u001b[0mfakeMergedGroup\u001b[0m\u001b[1;33m[\u001b[0m\u001b[0mfakeMergedGroup\u001b[0m\u001b[1;33m[\u001b[0m\u001b[1;34m\"res\"\u001b[0m\u001b[1;33m]\u001b[0m \u001b[1;33m==\u001b[0m \u001b[1;32mTrue\u001b[0m\u001b[1;33m]\u001b[0m\u001b[1;33m\u001b[0m\u001b[1;33m\u001b[0m\u001b[0m\n\u001b[0;32m      3\u001b[0m \u001b[0mmergedGroup\u001b[0m \u001b[1;33m=\u001b[0m \u001b[0mmergedGroup\u001b[0m\u001b[1;33m.\u001b[0m\u001b[0mdrop\u001b[0m\u001b[1;33m(\u001b[0m\u001b[1;34m\"res\"\u001b[0m\u001b[1;33m)\u001b[0m\u001b[1;33m\u001b[0m\u001b[1;33m\u001b[0m\u001b[0m\n",
      "\u001b[1;32m~\\AppData\\Local\\Temp\\ipykernel_21192\\3703003933.py\u001b[0m in \u001b[0;36mconvertFrom\u001b[1;34m(d)\u001b[0m\n\u001b[0;32m      3\u001b[0m     \u001b[1;32mfor\u001b[0m \u001b[0mt\u001b[0m \u001b[1;32min\u001b[0m \u001b[0mrange\u001b[0m\u001b[1;33m(\u001b[0m\u001b[0md\u001b[0m\u001b[1;33m.\u001b[0m\u001b[0mshape\u001b[0m\u001b[1;33m[\u001b[0m\u001b[1;36m0\u001b[0m\u001b[1;33m]\u001b[0m\u001b[1;33m)\u001b[0m\u001b[1;33m:\u001b[0m\u001b[1;33m\u001b[0m\u001b[1;33m\u001b[0m\u001b[0m\n\u001b[0;32m      4\u001b[0m         \u001b[0mlistId\u001b[0m \u001b[1;33m=\u001b[0m \u001b[0mlist\u001b[0m\u001b[1;33m(\u001b[0m\u001b[0mmap\u001b[0m\u001b[1;33m(\u001b[0m\u001b[0mint\u001b[0m\u001b[1;33m,\u001b[0m \u001b[0mre\u001b[0m\u001b[1;33m.\u001b[0m\u001b[0mfindall\u001b[0m\u001b[1;33m(\u001b[0m\u001b[1;34mr'\\d+'\u001b[0m\u001b[1;33m,\u001b[0m \u001b[0mstr\u001b[0m\u001b[1;33m(\u001b[0m\u001b[0md\u001b[0m\u001b[1;33m[\u001b[0m\u001b[1;34m\"from_id\"\u001b[0m\u001b[1;33m]\u001b[0m\u001b[1;33m.\u001b[0m\u001b[0miloc\u001b[0m\u001b[1;33m[\u001b[0m\u001b[1;33m[\u001b[0m\u001b[0mt\u001b[0m\u001b[1;33m]\u001b[0m\u001b[1;33m]\u001b[0m\u001b[1;33m)\u001b[0m\u001b[1;33m[\u001b[0m\u001b[0mlen\u001b[0m\u001b[1;33m(\u001b[0m\u001b[0mstr\u001b[0m\u001b[1;33m(\u001b[0m\u001b[0mt\u001b[0m\u001b[1;33m)\u001b[0m\u001b[1;33m)\u001b[0m\u001b[1;33m:\u001b[0m\u001b[1;33m]\u001b[0m\u001b[1;33m)\u001b[0m\u001b[1;33m)\u001b[0m\u001b[1;33m)\u001b[0m\u001b[1;33m\u001b[0m\u001b[1;33m\u001b[0m\u001b[0m\n\u001b[1;32m----> 5\u001b[1;33m         \u001b[0mlistUser\u001b[0m \u001b[1;33m=\u001b[0m \u001b[0mlist\u001b[0m\u001b[1;33m(\u001b[0m\u001b[0mmap\u001b[0m\u001b[1;33m(\u001b[0m\u001b[0mint\u001b[0m\u001b[1;33m,\u001b[0m \u001b[0mre\u001b[0m\u001b[1;33m.\u001b[0m\u001b[0mfindall\u001b[0m\u001b[1;33m(\u001b[0m\u001b[1;34mr'\\d+'\u001b[0m\u001b[1;33m,\u001b[0m\u001b[0mstr\u001b[0m\u001b[1;33m(\u001b[0m\u001b[0md\u001b[0m\u001b[1;33m[\u001b[0m\u001b[1;34m\"users\"\u001b[0m\u001b[1;33m]\u001b[0m\u001b[1;33m.\u001b[0m\u001b[0miloc\u001b[0m\u001b[1;33m[\u001b[0m\u001b[1;33m[\u001b[0m\u001b[0mt\u001b[0m\u001b[1;33m]\u001b[0m\u001b[1;33m]\u001b[0m\u001b[1;33m)\u001b[0m\u001b[1;33m[\u001b[0m\u001b[0mlen\u001b[0m\u001b[1;33m(\u001b[0m\u001b[0mstr\u001b[0m\u001b[1;33m(\u001b[0m\u001b[0mt\u001b[0m\u001b[1;33m)\u001b[0m\u001b[1;33m)\u001b[0m\u001b[1;33m:\u001b[0m\u001b[1;33m]\u001b[0m\u001b[1;33m)\u001b[0m\u001b[1;33m)\u001b[0m\u001b[1;33m)\u001b[0m\u001b[1;33m\u001b[0m\u001b[1;33m\u001b[0m\u001b[0m\n\u001b[0m\u001b[0;32m      6\u001b[0m         \u001b[1;32mif\u001b[0m \u001b[0mlen\u001b[0m\u001b[1;33m(\u001b[0m\u001b[0mlistId\u001b[0m\u001b[1;33m)\u001b[0m \u001b[1;33m>\u001b[0m \u001b[1;36m0\u001b[0m \u001b[1;32mand\u001b[0m \u001b[0mlen\u001b[0m\u001b[1;33m(\u001b[0m\u001b[0mlistUser\u001b[0m\u001b[1;33m)\u001b[0m \u001b[1;33m>\u001b[0m \u001b[1;36m0\u001b[0m\u001b[1;33m:\u001b[0m\u001b[1;33m\u001b[0m\u001b[1;33m\u001b[0m\u001b[0m\n\u001b[0;32m      7\u001b[0m             \u001b[0mfrom_id\u001b[0m \u001b[1;33m=\u001b[0m \u001b[0mlistId\u001b[0m\u001b[1;33m[\u001b[0m\u001b[1;36m0\u001b[0m\u001b[1;33m]\u001b[0m\u001b[1;33m\u001b[0m\u001b[1;33m\u001b[0m\u001b[0m\n",
      "\u001b[1;32m~\\anaconda3\\lib\\site-packages\\pandas\\core\\indexing.py\u001b[0m in \u001b[0;36m__getitem__\u001b[1;34m(self, key)\u001b[0m\n\u001b[0;32m    965\u001b[0m \u001b[1;33m\u001b[0m\u001b[0m\n\u001b[0;32m    966\u001b[0m             \u001b[0mmaybe_callable\u001b[0m \u001b[1;33m=\u001b[0m \u001b[0mcom\u001b[0m\u001b[1;33m.\u001b[0m\u001b[0mapply_if_callable\u001b[0m\u001b[1;33m(\u001b[0m\u001b[0mkey\u001b[0m\u001b[1;33m,\u001b[0m \u001b[0mself\u001b[0m\u001b[1;33m.\u001b[0m\u001b[0mobj\u001b[0m\u001b[1;33m)\u001b[0m\u001b[1;33m\u001b[0m\u001b[1;33m\u001b[0m\u001b[0m\n\u001b[1;32m--> 967\u001b[1;33m             \u001b[1;32mreturn\u001b[0m \u001b[0mself\u001b[0m\u001b[1;33m.\u001b[0m\u001b[0m_getitem_axis\u001b[0m\u001b[1;33m(\u001b[0m\u001b[0mmaybe_callable\u001b[0m\u001b[1;33m,\u001b[0m \u001b[0maxis\u001b[0m\u001b[1;33m=\u001b[0m\u001b[0maxis\u001b[0m\u001b[1;33m)\u001b[0m\u001b[1;33m\u001b[0m\u001b[1;33m\u001b[0m\u001b[0m\n\u001b[0m\u001b[0;32m    968\u001b[0m \u001b[1;33m\u001b[0m\u001b[0m\n\u001b[0;32m    969\u001b[0m     \u001b[1;32mdef\u001b[0m \u001b[0m_is_scalar_access\u001b[0m\u001b[1;33m(\u001b[0m\u001b[0mself\u001b[0m\u001b[1;33m,\u001b[0m \u001b[0mkey\u001b[0m\u001b[1;33m:\u001b[0m \u001b[0mtuple\u001b[0m\u001b[1;33m)\u001b[0m\u001b[1;33m:\u001b[0m\u001b[1;33m\u001b[0m\u001b[1;33m\u001b[0m\u001b[0m\n",
      "\u001b[1;32m~\\anaconda3\\lib\\site-packages\\pandas\\core\\indexing.py\u001b[0m in \u001b[0;36m_getitem_axis\u001b[1;34m(self, key, axis)\u001b[0m\n\u001b[0;32m   1512\u001b[0m         \u001b[1;31m# a list of integers\u001b[0m\u001b[1;33m\u001b[0m\u001b[1;33m\u001b[0m\u001b[0m\n\u001b[0;32m   1513\u001b[0m         \u001b[1;32melif\u001b[0m \u001b[0mis_list_like_indexer\u001b[0m\u001b[1;33m(\u001b[0m\u001b[0mkey\u001b[0m\u001b[1;33m)\u001b[0m\u001b[1;33m:\u001b[0m\u001b[1;33m\u001b[0m\u001b[1;33m\u001b[0m\u001b[0m\n\u001b[1;32m-> 1514\u001b[1;33m             \u001b[1;32mreturn\u001b[0m \u001b[0mself\u001b[0m\u001b[1;33m.\u001b[0m\u001b[0m_get_list_axis\u001b[0m\u001b[1;33m(\u001b[0m\u001b[0mkey\u001b[0m\u001b[1;33m,\u001b[0m \u001b[0maxis\u001b[0m\u001b[1;33m=\u001b[0m\u001b[0maxis\u001b[0m\u001b[1;33m)\u001b[0m\u001b[1;33m\u001b[0m\u001b[1;33m\u001b[0m\u001b[0m\n\u001b[0m\u001b[0;32m   1515\u001b[0m \u001b[1;33m\u001b[0m\u001b[0m\n\u001b[0;32m   1516\u001b[0m         \u001b[1;31m# a single integer\u001b[0m\u001b[1;33m\u001b[0m\u001b[1;33m\u001b[0m\u001b[0m\n",
      "\u001b[1;32m~\\anaconda3\\lib\\site-packages\\pandas\\core\\indexing.py\u001b[0m in \u001b[0;36m_get_list_axis\u001b[1;34m(self, key, axis)\u001b[0m\n\u001b[0;32m   1483\u001b[0m         \"\"\"\n\u001b[0;32m   1484\u001b[0m         \u001b[1;32mtry\u001b[0m\u001b[1;33m:\u001b[0m\u001b[1;33m\u001b[0m\u001b[1;33m\u001b[0m\u001b[0m\n\u001b[1;32m-> 1485\u001b[1;33m             \u001b[1;32mreturn\u001b[0m \u001b[0mself\u001b[0m\u001b[1;33m.\u001b[0m\u001b[0mobj\u001b[0m\u001b[1;33m.\u001b[0m\u001b[0m_take_with_is_copy\u001b[0m\u001b[1;33m(\u001b[0m\u001b[0mkey\u001b[0m\u001b[1;33m,\u001b[0m \u001b[0maxis\u001b[0m\u001b[1;33m=\u001b[0m\u001b[0maxis\u001b[0m\u001b[1;33m)\u001b[0m\u001b[1;33m\u001b[0m\u001b[1;33m\u001b[0m\u001b[0m\n\u001b[0m\u001b[0;32m   1486\u001b[0m         \u001b[1;32mexcept\u001b[0m \u001b[0mIndexError\u001b[0m \u001b[1;32mas\u001b[0m \u001b[0merr\u001b[0m\u001b[1;33m:\u001b[0m\u001b[1;33m\u001b[0m\u001b[1;33m\u001b[0m\u001b[0m\n\u001b[0;32m   1487\u001b[0m             \u001b[1;31m# re-raise with different error message\u001b[0m\u001b[1;33m\u001b[0m\u001b[1;33m\u001b[0m\u001b[0m\n",
      "\u001b[1;32m~\\anaconda3\\lib\\site-packages\\pandas\\core\\series.py\u001b[0m in \u001b[0;36m_take_with_is_copy\u001b[1;34m(self, indices, axis)\u001b[0m\n\u001b[0;32m    920\u001b[0m         \u001b[0mSee\u001b[0m \u001b[0mthe\u001b[0m \u001b[0mdocstring\u001b[0m \u001b[0mof\u001b[0m\u001b[0;31m \u001b[0m\u001b[0;31m`\u001b[0m\u001b[0mtake\u001b[0m\u001b[0;31m`\u001b[0m \u001b[1;32mfor\u001b[0m \u001b[0mfull\u001b[0m \u001b[0mexplanation\u001b[0m \u001b[0mof\u001b[0m \u001b[0mthe\u001b[0m \u001b[0mparameters\u001b[0m\u001b[1;33m.\u001b[0m\u001b[1;33m\u001b[0m\u001b[1;33m\u001b[0m\u001b[0m\n\u001b[0;32m    921\u001b[0m         \"\"\"\n\u001b[1;32m--> 922\u001b[1;33m         \u001b[1;32mreturn\u001b[0m \u001b[0mself\u001b[0m\u001b[1;33m.\u001b[0m\u001b[0mtake\u001b[0m\u001b[1;33m(\u001b[0m\u001b[0mindices\u001b[0m\u001b[1;33m=\u001b[0m\u001b[0mindices\u001b[0m\u001b[1;33m,\u001b[0m \u001b[0maxis\u001b[0m\u001b[1;33m=\u001b[0m\u001b[0maxis\u001b[0m\u001b[1;33m)\u001b[0m\u001b[1;33m\u001b[0m\u001b[1;33m\u001b[0m\u001b[0m\n\u001b[0m\u001b[0;32m    923\u001b[0m \u001b[1;33m\u001b[0m\u001b[0m\n\u001b[0;32m    924\u001b[0m     \u001b[1;32mdef\u001b[0m \u001b[0m_ixs\u001b[0m\u001b[1;33m(\u001b[0m\u001b[0mself\u001b[0m\u001b[1;33m,\u001b[0m \u001b[0mi\u001b[0m\u001b[1;33m:\u001b[0m \u001b[0mint\u001b[0m\u001b[1;33m,\u001b[0m \u001b[0maxis\u001b[0m\u001b[1;33m:\u001b[0m \u001b[0mint\u001b[0m \u001b[1;33m=\u001b[0m \u001b[1;36m0\u001b[0m\u001b[1;33m)\u001b[0m\u001b[1;33m:\u001b[0m\u001b[1;33m\u001b[0m\u001b[1;33m\u001b[0m\u001b[0m\n",
      "\u001b[1;32m~\\anaconda3\\lib\\site-packages\\pandas\\core\\series.py\u001b[0m in \u001b[0;36mtake\u001b[1;34m(self, indices, axis, is_copy, **kwargs)\u001b[0m\n\u001b[0;32m    905\u001b[0m \u001b[1;33m\u001b[0m\u001b[0m\n\u001b[0;32m    906\u001b[0m         \u001b[0mindices\u001b[0m \u001b[1;33m=\u001b[0m \u001b[0mensure_platform_int\u001b[0m\u001b[1;33m(\u001b[0m\u001b[0mindices\u001b[0m\u001b[1;33m)\u001b[0m\u001b[1;33m\u001b[0m\u001b[1;33m\u001b[0m\u001b[0m\n\u001b[1;32m--> 907\u001b[1;33m         \u001b[0mnew_index\u001b[0m \u001b[1;33m=\u001b[0m \u001b[0mself\u001b[0m\u001b[1;33m.\u001b[0m\u001b[0mindex\u001b[0m\u001b[1;33m.\u001b[0m\u001b[0mtake\u001b[0m\u001b[1;33m(\u001b[0m\u001b[0mindices\u001b[0m\u001b[1;33m)\u001b[0m\u001b[1;33m\u001b[0m\u001b[1;33m\u001b[0m\u001b[0m\n\u001b[0m\u001b[0;32m    908\u001b[0m         \u001b[0mnew_values\u001b[0m \u001b[1;33m=\u001b[0m \u001b[0mself\u001b[0m\u001b[1;33m.\u001b[0m\u001b[0m_values\u001b[0m\u001b[1;33m.\u001b[0m\u001b[0mtake\u001b[0m\u001b[1;33m(\u001b[0m\u001b[0mindices\u001b[0m\u001b[1;33m)\u001b[0m\u001b[1;33m\u001b[0m\u001b[1;33m\u001b[0m\u001b[0m\n\u001b[0;32m    909\u001b[0m \u001b[1;33m\u001b[0m\u001b[0m\n",
      "\u001b[1;32m~\\anaconda3\\lib\\site-packages\\pandas\\core\\indexes\\base.py\u001b[0m in \u001b[0;36mtake\u001b[1;34m(self, indices, axis, allow_fill, fill_value, **kwargs)\u001b[0m\n\u001b[0;32m   1119\u001b[0m         \u001b[0mvalues\u001b[0m \u001b[1;33m=\u001b[0m \u001b[0mself\u001b[0m\u001b[1;33m.\u001b[0m\u001b[0m_values\u001b[0m\u001b[1;33m\u001b[0m\u001b[1;33m\u001b[0m\u001b[0m\n\u001b[0;32m   1120\u001b[0m         \u001b[1;32mif\u001b[0m \u001b[0misinstance\u001b[0m\u001b[1;33m(\u001b[0m\u001b[0mvalues\u001b[0m\u001b[1;33m,\u001b[0m \u001b[0mnp\u001b[0m\u001b[1;33m.\u001b[0m\u001b[0mndarray\u001b[0m\u001b[1;33m)\u001b[0m\u001b[1;33m:\u001b[0m\u001b[1;33m\u001b[0m\u001b[1;33m\u001b[0m\u001b[0m\n\u001b[1;32m-> 1121\u001b[1;33m             taken = algos.take(\n\u001b[0m\u001b[0;32m   1122\u001b[0m                 \u001b[0mvalues\u001b[0m\u001b[1;33m,\u001b[0m \u001b[0mindices\u001b[0m\u001b[1;33m,\u001b[0m \u001b[0mallow_fill\u001b[0m\u001b[1;33m=\u001b[0m\u001b[0mallow_fill\u001b[0m\u001b[1;33m,\u001b[0m \u001b[0mfill_value\u001b[0m\u001b[1;33m=\u001b[0m\u001b[0mself\u001b[0m\u001b[1;33m.\u001b[0m\u001b[0m_na_value\u001b[0m\u001b[1;33m\u001b[0m\u001b[1;33m\u001b[0m\u001b[0m\n\u001b[0;32m   1123\u001b[0m             )\n",
      "\u001b[1;32m~\\anaconda3\\lib\\site-packages\\pandas\\core\\algorithms.py\u001b[0m in \u001b[0;36mtake\u001b[1;34m(arr, indices, axis, allow_fill, fill_value)\u001b[0m\n\u001b[0;32m   1447\u001b[0m     \u001b[1;32melse\u001b[0m\u001b[1;33m:\u001b[0m\u001b[1;33m\u001b[0m\u001b[1;33m\u001b[0m\u001b[0m\n\u001b[0;32m   1448\u001b[0m         \u001b[1;31m# NumPy style\u001b[0m\u001b[1;33m\u001b[0m\u001b[1;33m\u001b[0m\u001b[0m\n\u001b[1;32m-> 1449\u001b[1;33m         \u001b[0mresult\u001b[0m \u001b[1;33m=\u001b[0m \u001b[0marr\u001b[0m\u001b[1;33m.\u001b[0m\u001b[0mtake\u001b[0m\u001b[1;33m(\u001b[0m\u001b[0mindices\u001b[0m\u001b[1;33m,\u001b[0m \u001b[0maxis\u001b[0m\u001b[1;33m=\u001b[0m\u001b[0maxis\u001b[0m\u001b[1;33m)\u001b[0m\u001b[1;33m\u001b[0m\u001b[1;33m\u001b[0m\u001b[0m\n\u001b[0m\u001b[0;32m   1450\u001b[0m     \u001b[1;32mreturn\u001b[0m \u001b[0mresult\u001b[0m\u001b[1;33m\u001b[0m\u001b[1;33m\u001b[0m\u001b[0m\n\u001b[0;32m   1451\u001b[0m \u001b[1;33m\u001b[0m\u001b[0m\n",
      "\u001b[1;31mKeyboardInterrupt\u001b[0m: "
     ]
    }
   ],
   "source": [
    "fakeMergedGroup[\"res\"] = convertFrom(fakeMergedGroup)  #it takes about 30 minutes\n",
    "mergedGroup = fakeMergedGroup[fakeMergedGroup[\"res\"] == True]\n",
    "mergedGroup = mergedGroup.drop(\"res\")"
   ]
  },
  {
   "cell_type": "code",
   "execution_count": null,
   "id": "93833cd7",
   "metadata": {},
   "outputs": [],
   "source": [
    "mergedDf = pd.concat([mergedGroup, mergedPrivate])\n",
    "mergedDf.shape"
   ]
  },
  {
   "cell_type": "code",
   "execution_count": null,
   "id": "8d337331",
   "metadata": {},
   "outputs": [],
   "source": [
    "ukr_stopwords = []\n",
    "with open(\"ukrainian_stopwords.txt\", 'r', encoding=\"utf-8\") as f:\n",
    "    ukr_stopwords = [line.strip() for line in f]"
   ]
  },
  {
   "cell_type": "markdown",
   "id": "965d42ec",
   "metadata": {},
   "source": [
    "## Task\n",
    "## Data Analysis\n"
   ]
  },
  {
   "cell_type": "markdown",
   "id": "6ec21234",
   "metadata": {},
   "source": [
    "1. В певний момент часу моя подруга переїхала в Канаду. Дослідження того як змінилось інтенсивність наших переписок"
   ]
  },
  {
   "cell_type": "code",
   "execution_count": null,
   "id": "03b1905d",
   "metadata": {},
   "outputs": [],
   "source": [
    "def convert_times(d):\n",
    "    mylist = []\n",
    "    for t in range(len(d[\"date\"].tolist())):\n",
    "        msgdate = d[\"date\"].loc[d.index[t]][:10]\n",
    "        mylist.append(pd.to_datetime(msgdate))\n",
    "    return mylist"
   ]
  },
  {
   "cell_type": "code",
   "execution_count": null,
   "id": "5493e38f",
   "metadata": {},
   "outputs": [],
   "source": [
    "myUserId = int(input(\"Input your ID \")) #lnput your user ID like 111111111 How to find look prepare.ipynb\n",
    "yourFriendName = input(\"Input Your chat name of partner or friend name dialog (your friend firstname and second name in TG) \")"
   ]
  },
  {
   "cell_type": "code",
   "execution_count": null,
   "id": "b80c7f81",
   "metadata": {},
   "outputs": [],
   "source": [
    "mfdf = df[df[\"dialog_id\"] == int(df_meta[df_meta[\"name\"] == f\"{yourFriendName}\" ]['dialog_id']) ]\n",
    "\n",
    "\n",
    "dfr = mfdf[mfdf[\"to_id\"] == myUserId]\n",
    "dfr[\"DMY\"] = convert_times(dfr)\n",
    "dfs = mfdf[mfdf[\"to_id\"] != myUserId]\n",
    "dfs[\"DMY\"] = convert_times(dfs)\n",
    "dfr.groupby(\"DMY\")[\"DMY\"].count().plot(label = \"received\")\n",
    "dfs.groupby(\"DMY\")[\"DMY\"].count().plot(label = \"sent\")\n",
    "plt.axvline(x = \"2021-12-26\", color = 'b', label = \"day of departure\" )\n",
    "plt.axvline(x = \"2022-02-24\", color = 'r', label = \"invasion\")\n",
    "plt.title(\"Intensity of messaging with my friend\")\n",
    "plt.legend()\n",
    "plt.show()\n",
    "\n"
   ]
  },
  {
   "cell_type": "markdown",
   "id": "005db842",
   "metadata": {},
   "source": [
    "2. Оскільки часовий пояс в Канаді сильно віддмінний від українського, переписуватись ми стали в інший час. 2 графіки того з часом відправлення повідомлень відносно наших часових поясів"
   ]
  },
  {
   "cell_type": "code",
   "execution_count": null,
   "id": "c1e32dae",
   "metadata": {},
   "outputs": [],
   "source": [
    "def convert_hours(d, n):\n",
    "    mylist = []\n",
    "    for t in range(len(d[\"date\"].tolist())):\n",
    "        msghour = int(d[\"date\"].loc[d.index[t]][11:13]) + n\n",
    "        if msghour > 23:\n",
    "            msghour -= 24\n",
    "        if msghour < 0:\n",
    "            msghour += 24\n",
    "        mylist.append(msghour)\n",
    "    return mylist\n",
    "\n",
    "mfdf1 = mfdf[mfdf[\"date\"] < \"2021-12-26 00-00-00+00:00\"]\n",
    "mfdf2 = mfdf[mfdf[\"date\"] >= \"2021-12-26 00-00-00+00:00\"]\n",
    "\n",
    "dfrh1 = mfdf1[mfdf1[\"to_id\"] == myUserId ]\n",
    "dfrh1[\"DMY\"] = convert_hours(dfrh1, 2)\n",
    "dfsh1 = mfdf1[mfdf1[\"to_id\"] != myUserId]\n",
    "dfsh1[\"DMY\"] = convert_hours(dfsh1, 2)\n",
    "dfrh2 = mfdf2[mfdf2[\"to_id\"] == myUserId]\n",
    "dfrh2[\"DMY\"] = convert_hours(dfrh2, -5)\n",
    "dfsh2 = mfdf2[mfdf2[\"to_id\"] != myUserId]\n",
    "dfsh2[\"DMY\"] = convert_hours(dfsh2, 2)\n",
    "\n",
    "\n",
    "fig = plt.figure()\n",
    "ax1 = fig.add_subplot(211)\n",
    "ax2 = fig.add_subplot(212)\n",
    "dfrh1.groupby(\"DMY\")[\"DMY\"].count().plot( ax=ax1)\n",
    "dfsh1.groupby(\"DMY\")[\"DMY\"].count().plot( ax=ax1)\n",
    "dfrh2.groupby(\"DMY\")[\"DMY\"].count().plot( ax=ax2)\n",
    "dfsh2.groupby(\"DMY\")[\"DMY\"].count().plot( ax=ax2)\n",
    "plt.sca(ax1)\n",
    "plt.title(\"Messaging time before departure\")\n",
    "plt.sca(ax2)\n",
    "plt.title(\"Messaging time after departure\")\n",
    "plt.show()\n"
   ]
  },
  {
   "cell_type": "markdown",
   "id": "06f0244a",
   "metadata": {},
   "source": [
    "3. Залежність між довжиною слів та їх використанням."
   ]
  },
  {
   "cell_type": "code",
   "execution_count": null,
   "id": "54687f2e",
   "metadata": {},
   "outputs": [],
   "source": [
    "words = {}\n",
    "sent = df[df[\"from_id\"] == f'PeerUser(user_id={myUserId})']\n",
    "recev = df[df[\"from_id\"] != f'PeerUser(user_id={myUserId})']\n",
    "for ms in list(sent[\"message\"]):\n",
    "    mslist = re.sub(\"[^a-zA-Z\\u0401-\\u04f9]+\", \" \",str(ms).lower()).replace(\"[^a-zA-Z0-9]+\", ' ').split(' ')\n",
    "    for w in mslist:\n",
    "        if len(w) > 0:\n",
    "            if len(w) in words:\n",
    "                words[len(w)] += 1\n",
    "            else:\n",
    "                words[len(w)] = 1\n",
    "\n",
    "wordnumdf = pd.DataFrame([(k, v) for k, v in words.items()], columns = [\"length\", \"times\"])\n",
    "wordnumdf[wordnumdf[\"length\"]<=20].sort_values(by=['length']).plot(x = \"length\", y = \"times\", color = \"orange\", kind = 'bar')\n",
    "plt.title(\"Dependency between words length and usage in sent message\")\n",
    "rwords = {}\n",
    "for ms in list(recev[\"message\"]):\n",
    "    mslist = re.sub(\"[^a-zA-Z\\u0401-\\u04f9]+\", \" \",str(ms).lower()).replace(\"[^a-zA-Z0-9]+\", ' ').split(' ')\n",
    "    for w in mslist:\n",
    "        if len(w) > 0:\n",
    "            if len(w) in rwords:\n",
    "                rwords[len(w)] += 1\n",
    "            else:\n",
    "                rwords[len(w)] = 1\n",
    "\n",
    "rwordnumdf = pd.DataFrame([(k, v) for k, v in rwords.items()], columns = [\"length\", \"times\"])\n",
    "rwordnumdf[rwordnumdf[\"length\"]<=20].sort_values(by=['length']).plot(x = \"length\", y = \"times\", kind = 'bar')\n",
    "plt.title(\"Dependency between words length and usage in receive message\")\n",
    "plt.show()"
   ]
  },
  {
   "cell_type": "markdown",
   "id": "3cc552b7",
   "metadata": {},
   "source": [
    "4. Інтенсивність спілкування в приватних повідомленнях та групах в часовому проміжку. Тобто кількість повідомлень за 1 місяць в групах та приватних діалогах"
   ]
  },
  {
   "cell_type": "code",
   "execution_count": null,
   "id": "8c4c004f",
   "metadata": {},
   "outputs": [],
   "source": [
    "def convert_month(d):\n",
    "    mylist = []\n",
    "    for t in range(len(d[\"date\"].tolist())):\n",
    "        mylist.append(pd.to_datetime(d[\"date\"].loc[d.index[t]][:7]))\n",
    "    return mylist\n",
    "\n",
    "\n",
    "groups = mergedGroup\n",
    "groups[\"DMY\"] = convert_month(groups)\n",
    "privates = mergedPrivate\n",
    "privates[\"DMY\"] = convert_month(privates)\n",
    "groups.groupby(\"DMY\")[\"DMY\"].count().plot(color = 'g', style=\"--\", label = \"Group\")\n",
    "privates.groupby(\"DMY\")[\"DMY\"].count().plot( color = 'r', style=\"--\", label =\"Private dialog\")\n",
    "plt.axvline(x = \"2022-02-24\", color = 'black', label = \"invasion\") #invasion\"\n",
    "plt.title(\"Intensity of messaging\")\n",
    "plt.legend()\n",
    "plt.show()"
   ]
  },
  {
   "cell_type": "markdown",
   "id": "7c712123",
   "metadata": {},
   "source": [
    "5. Тенденція використання типових слів про навчання та Пласт"
   ]
  },
  {
   "cell_type": "code",
   "execution_count": null,
   "id": "f9dd14fa",
   "metadata": {
    "scrolled": false
   },
   "outputs": [],
   "source": [
    "studyList = [\"лаб\", \"дз\", \"домашк\", \"пар\", \"задавали\", \"глиб\", \"роблю\", \"здач\", \"кр\", \"колок\", \"трим\", \"матан\", \"урок\", \"дискретка\", \"прога\", \"проект\", \"код\", \"формул\", \"таск\", \"сесі\", \"індивідуал\", \"зно\", \"мобільн\"]\n",
    "plastList = [\"вкладк\", \"сходин\", \"табір\", \"збірк\", \"акці\", \"вишкіл\", \"гутірк\", \"проба\", \"пробу\", \"провід\", \"курінь\", \"бунч\", \"комендант\", \"інструкт\" \"гурток\", \"виховн\", \"зв'язков\", \"впр\", \"змаг\", \"мандр\", \"рейд\"]\n",
    "deadline = [\"дедлайн\", \"реченець\", \"deadline\", \"термін\"]\n",
    "def searcher(d, searchlist):\n",
    "    column = []\n",
    "    for ms in list(d[\"message\"]):\n",
    "        res = 0\n",
    "        for w in searchlist:\n",
    "            if w in str(ms).lower():\n",
    "                res += 1\n",
    "        column.append(res)\n",
    "    return column\n",
    "\n",
    "\n",
    "fig = plt.figure()\n",
    "ax1 = fig.add_subplot(211)\n",
    "ax2 = fig.add_subplot(212)\n",
    "\n",
    "ddl = pd.DataFrame()\n",
    "ddl[\"DMY\"] = convert_month(df)\n",
    "ddl[\"Numb\"] = searcher(df, deadline)\n",
    "ddl.groupby(\"DMY\")[\"Numb\"].sum().plot(ax = ax1, color = \"black\")\n",
    "plast = pd.DataFrame()\n",
    "plast[\"DMY\"] = convert_month(df)\n",
    "plast[\"Numb\"] = searcher(df, plastList)\n",
    "plast.groupby(\"DMY\")[\"Numb\"].sum().plot(ax = ax2, color = \"green\", label = \"Plast\")\n",
    "study = pd.DataFrame()\n",
    "study[\"DMY\"] = convert_month(df)\n",
    "study[\"Numb\"] = searcher(df, studyList)\n",
    "study.groupby(\"DMY\")[\"Numb\"].sum().plot(ax = ax2, color = \"blue\", label = \"study\")\n",
    "plt.sca(ax1)\n",
    "plt.title(\"Using words deadline\")\n",
    "plt.sca(ax2)\n",
    "plt.title(\"Using words about Plast and study\")\n",
    "plt.legend()\n",
    "plt.show()"
   ]
  },
  {
   "cell_type": "markdown",
   "id": "e4b1fa04",
   "metadata": {},
   "source": [
    "6. Тенденція отримання повідомлень від одногрупників в особистих та групах"
   ]
  },
  {
   "cell_type": "code",
   "execution_count": null,
   "id": "ca8b4b4f",
   "metadata": {},
   "outputs": [],
   "source": [
    "fst = input(\"Input name of classmates group\")\n",
    "snd = input(\"Input other name of classmates group\")\n",
    "trd = input(\"Input other name of classmates group\")"
   ]
  },
  {
   "cell_type": "code",
   "execution_count": null,
   "id": "ddf36938",
   "metadata": {
    "scrolled": false
   },
   "outputs": [],
   "source": [
    "def getUsersIdlist(groupName):\n",
    "    userlist = []\n",
    "    d = df_meta[df_meta[\"name\"] == groupName][\"users\"]\n",
    "\n",
    "    for t in range(d.shape[0]):\n",
    "        userlist.append(d.iloc[[t]].values[0])\n",
    "    return userlist\n",
    "\n",
    "\n",
    "myClassMates = getUsersIdlist(fst) + getUsersIdlist(snd)+ getUsersIdlist(trd)\n",
    "condition = mergedDf.isin({\"users\": myClassMates})[\"users\"]\n",
    "classMatesDF = mergedDf[condition]\n",
    "classMatesDF = classMatesDF[classMatesDF[\"from_id\"] == f'PeerUser(user_id={myUserId})']\n",
    "\n",
    "cGroup = classMatesDF[classMatesDF[\"type_y\"] == \"Group\"]\n",
    "cPrivate = classMatesDF[classMatesDF[\"type_y\"] == \"Private dialog\"]\n",
    "cGroup[\"DMY\"] = convert_month(cGroup)\n",
    "cPrivate[\"DMY\"] = convert_month(cPrivate)\n",
    "\n",
    "cGroup.groupby(\"DMY\")[\"DMY\"].count().plot(label = \"groups\")\n",
    "cPrivate.groupby(\"DMY\")[\"DMY\"].count().plot(label = \"private\")\n",
    "plt.title(\"Messaging with classmates\")\n",
    "plt.legend()\n"
   ]
  },
  {
   "cell_type": "markdown",
   "id": "dbf14862",
   "metadata": {},
   "source": [
    "7. Доступ до спілкування з якою кількістю людей через різні типи чатів\n",
    "\n",
    "P, G, C - Доступ тільки через Приватні, Групи і Канали відповідно\n",
    "PG, PC, GC - Доступ тільки через Приватні та Групи, Приватні та Канали, Групи та Канали відповідно\n",
    "PGC - Доступ через всі види зв'язку"
   ]
  },
  {
   "cell_type": "code",
   "execution_count": null,
   "id": "4dae810b",
   "metadata": {},
   "outputs": [],
   "source": [
    "def get_variable_name(variable):\n",
    "    globals_dict = globals()\n",
    "    return [var_name for var_name in globals_dict if globals_dict[var_name] is variable][0], variable.shape[0]\n",
    "\n",
    "def addlabels(x,y):\n",
    "    for i in range(len(x)):\n",
    "        plt.text(i,y[i],y[i])\n",
    "\n",
    "dff = pd.DataFrame()\n",
    "dff[\"users\"]=df_meta[\"users\"]\n",
    "dff[\"type\"]=df_meta[\"type\"]\n",
    "noDuplDF=dff.drop_duplicates()\n",
    "\n",
    "allP = pd.DataFrame();allG = pd.DataFrame();allC = pd.DataFrame();\n",
    "allP[\"users\"] = noDuplDF[noDuplDF[\"type\"] == \"Private dialog\"][\"users\"]\n",
    "allG[\"users\"] = noDuplDF[noDuplDF[\"type\"] == \"Group\"][\"users\"]\n",
    "allC[\"users\"] = noDuplDF[noDuplDF[\"type\"] == \"Channel\"][\"users\"]\n",
    "\n",
    "PG = pd.merge(allP, allG, how='inner', on = [\"users\"])\n",
    "PC = pd.merge(allP, allC, how='inner', on = [\"users\"])\n",
    "GC = pd.merge(allG, allC, how='inner', on = [\"users\"])\n",
    "\n",
    "PGC = pd.merge(GC, pd.merge(PG, GC, how='inner', on = [\"users\"]), how='inner', on = [\"users\"])\n",
    "\n",
    "allPGC = pd.concat([pd.concat([PG, PC]).drop_duplicates(), GC]).drop_duplicates()\n",
    "\n",
    "PG = PG.merge(PGC,indicator = True, how='left').loc[lambda x : x['_merge']!='both']\n",
    "PC = PC.merge(PGC,indicator = True, how='left').loc[lambda x : x['_merge']!='both']\n",
    "GC = GC.merge(PGC,indicator = True, how='left').loc[lambda x : x['_merge']!='both']\n",
    "\n",
    "\n",
    "P = allP.merge(allPGC,indicator = True, how='left').loc[lambda x : x['_merge']!='both']\n",
    "G = allG.merge(allPGC,indicator = True, how='left').loc[lambda x : x['_merge']!='both']\n",
    "C = allC.merge(allPGC,indicator = True, how='left').loc[lambda x : x['_merge']!='both']\n",
    "\n",
    "types = [get_variable_name(P),\n",
    "         get_variable_name(G),\n",
    "         get_variable_name(C), \n",
    "         get_variable_name(PG), \n",
    "         get_variable_name(PC), \n",
    "         get_variable_name(GC), \n",
    "         get_variable_name(PGC)\n",
    "        ]\n",
    "xticks = []\n",
    "yl = []\n",
    "for i in range(len(types)):\n",
    "    xticks.append(types[i][0])\n",
    "    yl.append(types[i][1])\n",
    "x = np.arange(len(xticks))\n",
    "y = np.array(yl)\n",
    "plt.xticks(x, xticks)\n",
    "plt.bar(x, y)\n",
    "addlabels(x, y)\n",
    "plt.title(\"Ways to communicate with users\")\n",
    "plt.show()    \n"
   ]
  },
  {
   "cell_type": "markdown",
   "id": "cc939734",
   "metadata": {},
   "source": [
    "8. Середня інтенсивність серед топ 20 приватних чатів з найбільшою кількістю повідомлень. Інтенсивність обраховується за формулою: І = (к-ть повідомлень)/(день останнього повідомлення - день 1 повідомлення). Оскільки до обрахунків увійшди тільки найбільші чати, проблеми із діленням на 0 не має виникнути."
   ]
  },
  {
   "cell_type": "code",
   "execution_count": null,
   "id": "4e1e81d8",
   "metadata": {},
   "outputs": [],
   "source": [
    "import seaborn as sns\n",
    "\n",
    "def findMinDate(d):\n",
    "    mylist = []\n",
    "    for t in range(d.shape[0]):\n",
    "        current = mergedPrivate[mergedPrivate[\"name\"] == d[\"name\"].values[t]]\n",
    "        mylist.append(pd.to_datetime(min(current[\"date\"])[:10]))\n",
    "    return mylist\n",
    "def findMaxDate(d):\n",
    "    mylist = []\n",
    "    for t in range(d.shape[0]):\n",
    "        current = mergedPrivate[mergedPrivate[\"name\"] == d[\"name\"].values[t]]\n",
    "        mylist.append(pd.to_datetime(max(current[\"date\"])[:10]))\n",
    "    return mylist\n",
    "def getDep(d):\n",
    "    minList = findMinDate(d)\n",
    "    maxList = findMaxDate(d)\n",
    "    sizeList = d[\"size\"].values\n",
    "    res = []\n",
    "    for i in range(d.shape[0]):\n",
    "        res.append(sizeList[i]/(maxList[i] - minList[i]).days)\n",
    "    return res\n",
    "\n",
    "newdf = pd.DataFrame()\n",
    "newdf[\"size\"] = mergedPrivate.groupby([\"name\"])[\"name\"].count().sort_values(ascending=False).head(20)\n",
    "newdf.reset_index(inplace=True)\n",
    "newdf = newdf.rename(columns = {'index':'name'})\n",
    "newdf[\"res\"] = getDep(newdf)\n",
    "newdf= newdf.sort_values(by=['res'])\n",
    "plt.xticks(rotation=45, ha='right')\n",
    "sns.swarmplot(x=\"name\", y=\"res\",  data=newdf)\n",
    "plt.title(\"Intensity of messaging\") \n"
   ]
  },
  {
   "cell_type": "markdown",
   "id": "ca94e460",
   "metadata": {},
   "source": [
    "9. Візуалізація 15 найбільших чатів по кількості учасників."
   ]
  },
  {
   "cell_type": "code",
   "execution_count": null,
   "id": "81889c9c",
   "metadata": {},
   "outputs": [],
   "source": [
    "groupDF = pd.DataFrame()\n",
    "groupDF[\"user_amount\"] = df_meta[df_meta[\"type\"]==\"Group\"].groupby([\"name\"])[\"name\"].count().sort_values(ascending=False).head(15)\n",
    "groupDF.reset_index(inplace=True)\n",
    "groupDF = groupDF.rename(columns = {'index':'name'})\n",
    "\n",
    "xticks = groupDF[\"name\"].values\n",
    "y = np.array(groupDF[\"user_amount\"].values)\n",
    "x = np.arange(len(xticks))\n",
    "plt.xticks(x, xticks)\n",
    "plt.bar(x, y)\n",
    "addlabels(x, y)\n",
    "plt.xticks(rotation=45, ha='right')\n",
    "plt.title(\"The biggest droups\") \n",
    "plt.show()  "
   ]
  },
  {
   "cell_type": "markdown",
   "id": "e2dea6d7",
   "metadata": {},
   "source": [
    "10. Візуалізація приватних чатів з найбільшою кількістю повідомлень"
   ]
  },
  {
   "cell_type": "code",
   "execution_count": null,
   "id": "c5208ad8",
   "metadata": {},
   "outputs": [],
   "source": [
    "privateDF = pd.DataFrame()\n",
    "privateDF[\"msg_amount\"] = mergedPrivate.groupby([\"name\"])[\"name\"].count().sort_values(ascending=False).head(10)\n",
    "privateDF.reset_index(inplace=True)\n",
    "privateDF = privateDF.rename(columns = {'index':'name'})\n",
    "\n",
    "xticks = privateDF[\"name\"].values\n",
    "y = np.array(privateDF[\"msg_amount\"].values)\n",
    "x = np.arange(len(xticks))\n",
    "plt.xticks(x, xticks)\n",
    "plt.bar(x, y)\n",
    "addlabels(x, y)\n",
    "plt.xticks(rotation=45, ha='right')\n",
    "plt.title(\"The biggest private dialogs\") \n",
    "plt.show()  "
   ]
  },
  {
   "cell_type": "markdown",
   "id": "7dc6a1ab",
   "metadata": {},
   "source": [
    "11. Юзери з прихованим номером телефну/контакти"
   ]
  },
  {
   "cell_type": "code",
   "execution_count": null,
   "id": "30d097c3",
   "metadata": {},
   "outputs": [],
   "source": [
    "def getNumbersAmount():\n",
    "    d = pd.DataFrame()\n",
    "    d[\"users\"] = df_meta[\"users\"].drop_duplicates()\n",
    "    res = 0\n",
    "    for user in d[\"users\"].values:\n",
    "        listUser = list(map(str, re.findall(r'\\d+', user)))\n",
    "        if len(listUser) > 0:\n",
    "            phone = listUser[len(listUser) - 1]\n",
    "            if len(phone) == 12 and \"380\" in phone:\n",
    "                res += 1\n",
    "    return res\n",
    "\n",
    "def addpersent(x,y, alu, l):\n",
    "    for i in range(len(x)):\n",
    "        if l == 0:\n",
    "            numb = int(y[i]/alu*100)\n",
    "        else:\n",
    "            numb = round(y[i]/alu*100, l)\n",
    "        if numb != 0:\n",
    "            plt.text(i,y[i],f'{numb}%')\n",
    "        \n",
    "        \n",
    "allus = df_meta[\"users\"].drop_duplicates().size\n",
    "contacts = getNumbersAmount()\n",
    "nocontacts =  allus - contacts\n",
    "\n",
    "xticks = [\"Відомий\", \"Прихований\"]\n",
    "y = np.array([contacts, nocontacts])\n",
    "x = np.arange(len(xticks))\n",
    "plt.xticks(x, xticks)\n",
    "plt.bar(x, y)\n",
    "addpersent(x,y, allus, 1)\n",
    "plt.title(\"Номер телефону\")\n",
    "plt.show() "
   ]
  },
  {
   "cell_type": "markdown",
   "id": "c5a2cb59",
   "metadata": {},
   "source": [
    "12. Який відсоток юзерів мають нік, прізвище, ім'я"
   ]
  },
  {
   "cell_type": "code",
   "execution_count": null,
   "id": "51f90a35",
   "metadata": {},
   "outputs": [],
   "source": [
    "def getNoNameAmount(category):\n",
    "    d = pd.DataFrame()\n",
    "    d[\"users\"] = df_meta[\"users\"].drop_duplicates()\n",
    "    res = 0\n",
    "    for user in d[\"users\"].values:\n",
    "        user = user.replace('\"', \"'\")\n",
    "        if f\"{category}': None\" in user:\n",
    "            res += 1\n",
    "    return res\n",
    "        \n",
    "    \n",
    "nickname = allus - getNoNameAmount(\"username\") \n",
    "firstname = allus - getNoNameAmount(\"first_name\") \n",
    "lastname = allus - getNoNameAmount(\"last_name\") \n",
    "\n",
    "xticks = [\"User name\", \"First name\", \"Last name\"]\n",
    "y = np.array([nickname, firstname, lastname])\n",
    "x = np.arange(len(xticks))\n",
    "plt.xticks(x, xticks)\n",
    "plt.bar(x, y)\n",
    "addpersent(x,y, allus, 1)\n",
    "plt.title(\"Users have:\")\n",
    "plt.show() "
   ]
  },
  {
   "cell_type": "markdown",
   "id": "ac9b69fd",
   "metadata": {},
   "source": [
    "13. Дослідити час відправлення мною повідомлень впродовж доби"
   ]
  },
  {
   "cell_type": "code",
   "execution_count": null,
   "id": "e990d56e",
   "metadata": {},
   "outputs": [],
   "source": [
    "otherMsg = df[df[\"from_id\"] != f\"PeerUser(user_id={myUserId})\"]\n",
    "otherMsg[\"DMY\"] = convert_hours(otherMsg, 2)\n",
    "counts = pd.DataFrame()\n",
    "counts[\"amount\"] = otherMsg.groupby(\"DMY\")[\"DMY\"].count()\n",
    "counts[\"amount\"].plot(kind = \"bar\", label = \"recived\")\n",
    "counts.reset_index(inplace=True)\n",
    "y = np.array(counts[\"amount\"].values.tolist())\n",
    "x = np.array(counts[\"DMY\"].values.tolist())\n",
    "addpersent(x,y, otherMsg.shape[0], 0)\n",
    "\n",
    "\n",
    "myMsg = df[df[\"from_id\"] == f\"PeerUser(user_id={myUserId})\"]\n",
    "myMsg[\"DMY\"] = convert_hours(myMsg, 2)\n",
    "counts = pd.DataFrame()\n",
    "counts[\"amount\"] = myMsg.groupby(\"DMY\")[\"DMY\"].count()\n",
    "counts[\"amount\"].plot(kind = \"bar\", color = \"orange\",  label = \"sent\")\n",
    "counts.reset_index(inplace=True)\n",
    "y = np.array(counts[\"amount\"].values.tolist())\n",
    "x = np.array(counts[\"DMY\"].values.tolist())\n",
    "addpersent(x,y, myMsg.shape[0], 0)\n",
    "plt.title(\"Active hours:\")\n",
    "plt.legend()\n",
    "plt.show()"
   ]
  },
  {
   "cell_type": "markdown",
   "id": "789c8e49",
   "metadata": {},
   "source": [
    "14. Дослідити людей з якими в мене найбільше спільних чатів, каналів та їх кількість. "
   ]
  },
  {
   "cell_type": "code",
   "execution_count": null,
   "id": "c807b8a8",
   "metadata": {},
   "outputs": [],
   "source": [
    "def getUsersIdFromDF(data):\n",
    "    userlist = []\n",
    "    for user in data[\"users\"].values:\n",
    "        listUser = list(map(int, re.findall(r'\\d+', user)))\n",
    "        if len(listUser) > 0:\n",
    "            userlist.append(listUser[0])\n",
    "    return userlist\n",
    "\n",
    "users = pd.DataFrame()\n",
    "users[\"amount\"] = df_meta.groupby(\"users\")[\"users\"].count()\n",
    "users.reset_index(inplace=True)\n",
    "users = users.sort_values(by = \"amount\", ascending=False)\n",
    "# you need to find yourself and drop\n",
    "i = 0\n",
    "for u in getUsersIdFromDF(users):\n",
    "    if u == myUserId:\n",
    "        users = users.drop([i])#drop myself\n",
    "    i +=1    \n",
    "    \n",
    "\n",
    "\n",
    "condition = df_meta.isin({\"users\": myClassMates})[\"users\"]\n",
    "noClMt = pd.DataFrame()\n",
    "noClMt[\"amount\"] = df_meta[~condition].groupby(\"users\")[\"users\"].count()\n",
    "noClMt.reset_index(inplace=True)\n",
    "noClMt = noClMt.sort_values(by = \"amount\", ascending=False)\n",
    "\n",
    "fig = plt.figure()\n",
    "sub1 = fig.add_subplot(1,2,1)\n",
    "sub2 = fig.add_subplot(1,2,2)\n",
    "\n",
    "\n",
    "select = users.head(10)\n",
    "xticks = getUsersIdFromDF(select)\n",
    "y = np.array(select[\"amount\"].values)\n",
    "x = np.arange(len(xticks))\n",
    "plt.sca(sub1)\n",
    "plt.xticks(x, xticks)\n",
    "sub1.bar(x, y)\n",
    "plt.title(\"Comon groups with classmates\")\n",
    "plt.xticks(rotation=45, ha='right')\n",
    "\n",
    "select = noClMt.head(10)\n",
    "xticks = getUsersIdFromDF(select)\n",
    "y = np.array(select[\"amount\"].values)\n",
    "x = np.arange(len(xticks))\n",
    "plt.sca(sub2)\n",
    "plt.xticks(x, xticks)\n",
    "sub2.bar(x, y)\n",
    "plt.title(\"Comon groups without classmates\")\n",
    "plt.xticks(rotation=45, ha='right')\n",
    "\n",
    "plt"
   ]
  },
  {
   "cell_type": "markdown",
   "id": "068d7799",
   "metadata": {},
   "source": [
    "15. Дослідити частоту моїх повідомлень в чатах та групах відносно всіх повідомлень в них. Тобто 10% в групах означає що ви надсилаєте в середньому 10% повідомлень у всіх групах."
   ]
  },
  {
   "cell_type": "code",
   "execution_count": null,
   "id": "5538184d",
   "metadata": {},
   "outputs": [],
   "source": [
    "myMsg = mergedDf[mergedDf[\"from_id\"] == f\"PeerUser(user_id={myUserId})\"]\n",
    "counts = pd.DataFrame()\n",
    "counts[\"amount\"] = myMsg.groupby(\"type_y\")[\"type_y\"].count()\n",
    "counts[\"amount\"].plot(kind = \"bar\", color = \"orange\")\n",
    "counts.reset_index(inplace=True)\n",
    "y = np.array(counts[\"amount\"].values.tolist())\n",
    "x = np.array(counts[\"type_y\"].values.tolist())\n",
    "\n",
    "plt.text(0,y[0],f'{round(y[0]/(mergedGroup.shape[0])*100, 1)}%')\n",
    "plt.text(1,y[1],f'{round(y[1]/(mergedPrivate.shape[0])*100, 1)}%')\n",
    "\n",
    "plt.title(\"My activity in chats\")\n",
    "plt.legend()"
   ]
  },
  {
   "cell_type": "markdown",
   "id": "161ffd2b",
   "metadata": {},
   "source": [
    "16. Дослідити людей яким я відправляла найбільшу кількість слів, та від яких отримувала."
   ]
  },
  {
   "cell_type": "code",
   "execution_count": null,
   "id": "dd2d77ae",
   "metadata": {
    "scrolled": false
   },
   "outputs": [],
   "source": [
    "def putNumberOfWords(data):\n",
    "    wordsAmount = []\n",
    "    for ms in data[\"message\"].values:\n",
    "        mslist = re.sub(\"[^a-zA-Z\\u0401-\\u04f9]+\", \" \",str(ms).lower()).replace(\"[^a-zA-Z0-9]+\", ' ').split(' ')\n",
    "        mslist = list(filter(lambda a: a != [], mslist))\n",
    "        if len(mslist)>0:\n",
    "            wordsAmount.append(len(mslist))\n",
    "    return wordsAmount\n",
    "\n",
    "txtDF = mergedPrivate[mergedPrivate[\"type_x\"]==\"text\"]\n",
    "txtDF[\"words_amount\"] = putNumberOfWords(txtDF)\n",
    "\n",
    "mytxt = txtDF[txtDF[\"from_id\"] == f\"PeerUser(user_id={myUserId})\"]\n",
    "othertxt = txtDF[txtDF[\"from_id\"] != f\"PeerUser(user_id={myUserId})\"]\n",
    "\n",
    "recDF = pd.DataFrame()\n",
    "sendDF = pd.DataFrame()\n",
    "sendDF[\"words_amount\"] = mytxt.groupby(\"name\")[\"words_amount\"].sum().sort_values(ascending=False).head(12)\n",
    "recDF[\"words_amount\"] = othertxt.groupby(\"name\")[\"words_amount\"].sum().sort_values(ascending=False).head(12)\n",
    "recDF.reset_index(inplace=True)\n",
    "sendDF.reset_index(inplace=True)\n",
    "\n",
    "\n",
    "fig = plt.figure()\n",
    "sub1 = fig.add_subplot(1,2,1)\n",
    "sub2 = fig.add_subplot(1,2,2)\n",
    "\n",
    "\n",
    "select = sendDF\n",
    "xticks = select[\"name\"].values\n",
    "y = np.array(select[\"words_amount\"].values)\n",
    "x = np.arange(len(xticks))\n",
    "plt.sca(sub1)\n",
    "plt.xticks(x, xticks)\n",
    "sub1.bar(x, y)\n",
    "plt.title(\"Send amount of words\")\n",
    "plt.xticks(rotation=45, ha='right')\n",
    "\n",
    "select = recDF\n",
    "xticks = select[\"name\"].values\n",
    "y = np.array(select[\"words_amount\"].values)\n",
    "x = np.arange(len(xticks))\n",
    "plt.sca(sub2)\n",
    "plt.xticks(x, xticks)\n",
    "sub2.bar(x, y)\n",
    "plt.title(\"Received amount of words\")\n",
    "plt.xticks(rotation=45, ha='right')\n",
    "\n",
    "plt"
   ]
  },
  {
   "cell_type": "markdown",
   "id": "9e8fedf3",
   "metadata": {},
   "source": [
    "17. Дослідити використання слів паразитів. Результат поданий у частці повідомлень що містять погані слова"
   ]
  },
  {
   "cell_type": "code",
   "execution_count": null,
   "id": "57cdfc21",
   "metadata": {},
   "outputs": [],
   "source": [
    "poorwords = [\"капець\", \"ок\", \"треш\", \"добре\", \"охх\", \"ммм\", \"ууу\", \"супер\", \"ужас\", \"клас\", \"короче\", \"слухай\", \"бля\", \"дивись\", \"ну\", \"ясно\", \"хз\"]\n",
    "def searcher(d, searchlist):\n",
    "    column = []\n",
    "    for ms in list(d[\"message\"]):\n",
    "        res = 0\n",
    "        for w in searchlist:\n",
    "            if w in str(ms).lower():\n",
    "                res += 1\n",
    "        if res>0:\n",
    "            res = 1\n",
    "        column.append(res)\n",
    "    return column\n",
    "\n",
    "dfr = df[df[\"from_id\"] != f\"PeerUser(user_id={myUserId})\"]\n",
    "dfr[\"DMY\"] = convert_month(dfr)\n",
    "dfrg = pd.DataFrame()\n",
    "dfrg[\"all_words\"] = dfr.groupby(\"DMY\")[\"DMY\"].count()\n",
    "dfrg.reset_index(inplace=True)\n",
    "dfs = df[df[\"from_id\"] == f\"PeerUser(user_id={myUserId})\"]\n",
    "dfs[\"DMY\"] = convert_month(dfs)\n",
    "dfsg = pd.DataFrame()\n",
    "dfsg[\"all_words\"] = dfs.groupby(\"DMY\")[\"DMY\"].count()\n",
    "dfsg.reset_index(inplace=True)\n",
    "\n",
    "\n",
    "pwr = mergedPrivate[mergedPrivate[\"from_id\"] != f\"PeerUser(user_id={myUserId})\"]\n",
    "pwr[\"DMY\"] = convert_month(pwr)\n",
    "pwr[\"Numb\"] = searcher(pwr, poorwords)\n",
    "pwrg = pd.DataFrame()\n",
    "pwrg[\"poor_words\"] = pwr.groupby(\"DMY\")[\"Numb\"].sum()\n",
    "pwrg.reset_index(inplace=True)\n",
    "pwrg = pwrg.merge(dfrg,  how='inner', on='DMY' )\n",
    "pwrg[\"frequency\"] = pwrg[\"poor_words\"]/pwrg[\"all_words\"]\n",
    "\n",
    "\n",
    "pws = mergedPrivate[mergedPrivate[\"from_id\"] == f\"PeerUser(user_id={myUserId})\"]\n",
    "pws[\"DMY\"] = convert_month(pws)\n",
    "pws[\"Numb\"] = searcher(pws, poorwords)\n",
    "pwsg = pd.DataFrame()\n",
    "pwsg[\"poor_words\"] = pws.groupby(\"DMY\")[\"Numb\"].sum()\n",
    "pwsg.reset_index(inplace=True)\n",
    "pwsg = pwsg.merge(dfsg,  how='inner', on='DMY' )\n",
    "pwsg[\"frequency\"] = pwsg[\"poor_words\"]/pwsg[\"all_words\"]\n",
    "\n",
    "fig = plt.figure()\n",
    "sub1 = fig.add_subplot(211)\n",
    "\n",
    "pwrg.plot(ax = sub1, x = \"DMY\", y = \"frequency\", color = \"black\", label = \"received\")\n",
    "pwsg.plot(ax = sub1, x = \"DMY\", y = \"frequency\", color = \"red\", label = \"sent\")\n",
    "plt.sca(sub1)\n",
    "plt.title(\"Using poor words\")\n",
    "plt.legend()\n",
    "plt.show()"
   ]
  },
  {
   "cell_type": "markdown",
   "id": "f79515ef",
   "metadata": {},
   "source": [
    "18. 10 найчастіших слів, у спілкуванні із партнером, що довші за 3 символи."
   ]
  },
  {
   "cell_type": "code",
   "execution_count": null,
   "id": "7d166436",
   "metadata": {},
   "outputs": [],
   "source": [
    "chWHPartnerName = input(\"Your chat name of partner or friend name dialog\")"
   ]
  },
  {
   "cell_type": "code",
   "execution_count": null,
   "id": "1a7fcdfe",
   "metadata": {},
   "outputs": [],
   "source": [
    "MIN_LENGTH = 4\n",
    "TOP = 10\n",
    "def getAllWordFrq(name):\n",
    "    wordsDict = {}\n",
    "    d = mergedPrivate[mergedPrivate[\"name\"] == name][\"message\"]\n",
    "    for ms in d.values:\n",
    "        mslist = re.sub(\"[^a-zA-Z\\u0401-\\u04f9]+\", \" \",str(ms).lower()).replace(\"[^a-zA-Z0-9]+\", ' ').split(' ')\n",
    "        mslist = list(filter(lambda a: len(a) >= MIN_LENGTH and a not in ukr_stopwords, mslist))\n",
    "        for w in mslist:\n",
    "            if w in wordsDict:\n",
    "                wordsDict[w]+=1\n",
    "            else:\n",
    "                wordsDict[w]=1\n",
    "    return wordsDict\n",
    "\n",
    "def getTop(wordDict):\n",
    "    tups = sorted(wordDict.items(), key=lambda kv: kv[1], reverse= True)\n",
    "    res = pd.DataFrame(columns = [\"word\", \"amount\"])\n",
    "    for i in range(TOP):\n",
    "        res.at[i, 'word'] = tups[i][0]\n",
    "        res.at[i,'amount'] = tups[i][1]\n",
    "    return res\n",
    "    \n",
    "    \n",
    "    \n",
    "top10 = getTop(getAllWordFrq(chWHPartnerName))\n",
    "xticks = top10[\"word\"].values\n",
    "y = np.array(top10[\"amount\"].values)\n",
    "x = np.arange(len(xticks))\n",
    "plt.xticks(x, xticks)\n",
    "plt.bar(x, y)\n",
    "addlabels(x, y)\n",
    "plt.xticks(rotation=45, ha='right')\n",
    "plt.title(\"The most popular words with my bf\")\n",
    "plt.show()  "
   ]
  },
  {
   "cell_type": "markdown",
   "id": "319ba604",
   "metadata": {},
   "source": [
    "19. Середня довжина повідомлення по датам"
   ]
  },
  {
   "cell_type": "code",
   "execution_count": null,
   "id": "ef7119d9",
   "metadata": {},
   "outputs": [],
   "source": [
    "def getMsgLen(data):\n",
    "    msgLens = []\n",
    "    for ms in data[\"message\"].values:\n",
    "        mslist = str(ms).lower().replace(\"[^\\u0041-\\u007A\\u0430–\\u0456]+\", ' ').split(' ')\n",
    "        mslist = list(filter(lambda a: len(a) > 0, mslist))\n",
    "        msgLens.append(len(mslist))\n",
    "    return msgLens\n",
    "\n",
    "mytxt[\"DMY\"] = convert_month(mytxt)\n",
    "othertxt[\"DMY\"] = convert_month(othertxt)\n",
    "mytxt[\"length\"] = getMsgLen(mytxt)\n",
    "othertxt[\"length\"] = getMsgLen(othertxt)\n",
    "\n",
    "othertxt.groupby(\"DMY\")[\"length\"].mean().plot(label = \"recieved\")\n",
    "mytxt.groupby(\"DMY\")[\"length\"].mean().plot(label = \"send\")\n",
    "plt.legend()\n",
    "plt.title(\"Average amount of words in message\")"
   ]
  },
  {
   "cell_type": "markdown",
   "id": "383f4715",
   "metadata": {},
   "source": [
    "20. Частота використання не текстової взаємодії: реакцій, пересилання повідомлень та інших видів повідомлень."
   ]
  },
  {
   "cell_type": "code",
   "execution_count": null,
   "id": "32d57a9e",
   "metadata": {},
   "outputs": [],
   "source": [
    "def getNumbFwd(d):\n",
    "    res = 0\n",
    "    for ms in d[\"fwd_from\"].values:\n",
    "        if str(ms) != \"nan\":\n",
    "            res += 1\n",
    "    return res\n",
    "def getNumbReact(d):\n",
    "    res = 0\n",
    "    for ms in d[\"reactions\"].values:\n",
    "        if str(ms) != \"{}\":\n",
    "            res += 1\n",
    "    return res\n",
    "        \n",
    "    \n",
    "allms = dfr.shape[0]    \n",
    "\n",
    "fig = plt.figure()\n",
    "sub1 = fig.add_subplot(1,2,1)\n",
    "sub2 = fig.add_subplot(1,2,2)\n",
    "\n",
    "\n",
    "forward = getNumbFwd(dfr) \n",
    "reactions = getNumbReact(dfr) \n",
    "notText = dfr[dfr[\"type\"] != \"text\"].shape[0]\n",
    "\n",
    "xticks = [\"Forwarded\", \"With reactions\", \"Not-text\"]\n",
    "y = np.array([forward, reactions, notText])\n",
    "x = np.arange(len(xticks))\n",
    "plt.sca(sub1)\n",
    "plt.xticks(x, xticks)\n",
    "sub1.bar(x, y)\n",
    "addpersent(x,y, allms, 1)\n",
    "plt.title(\"Kinds of recieved messanges\")\n",
    "plt.xticks(rotation=30, ha='right')\n",
    "\n",
    "forward = getNumbFwd(dfs) \n",
    "reactions = getNumbReact(dfs) \n",
    "notText = dfs[dfs[\"type\"] != \"text\"].shape[0]\n",
    "\n",
    "y = np.array([forward, reactions, notText])\n",
    "plt.sca(sub2)\n",
    "plt.xticks(x, xticks)\n",
    "sub2.bar(x, y)\n",
    "addpersent(x,y, allms, 1)\n",
    "plt.title(\"Kinds of send messanges\")\n",
    "plt.xticks(rotation=30, ha='right')\n",
    "plt.show() \n"
   ]
  },
  {
   "cell_type": "markdown",
   "id": "fdcb59d4",
   "metadata": {},
   "source": [
    "21. Порівняння використання латиниці та кирилиці. Ймовірна причина росту використання латиниці - запрошення в зум-конференцію, що генеруються англійською."
   ]
  },
  {
   "cell_type": "code",
   "execution_count": null,
   "id": "3cf2f42e",
   "metadata": {},
   "outputs": [],
   "source": [
    "def getMsgLeng(data, leng = \"ua\"):\n",
    "    msgLens = []\n",
    "    rule = \"[^\\u0430–\\u0456]+\"\n",
    "    if leng ==\"en\":\n",
    "        rule = \"[^\\u0041-\\u007A]+\"\n",
    "    for ms in data[\"message\"].values:\n",
    "        mslist = re.sub(rule, ' ', str(ms).lower()).split(' ')\n",
    "        mslist = list(filter(lambda a: len(a) > 0 and a!='nan'and a!='–', mslist))\n",
    "        msgLens.append(len(mslist))\n",
    "    return msgLens"
   ]
  },
  {
   "cell_type": "code",
   "execution_count": null,
   "id": "b45edf28",
   "metadata": {},
   "outputs": [],
   "source": [
    "mytxt[\"ua\"] = getMsgLeng(mytxt)\n",
    "othertxt[\"ua\"] = getMsgLeng(othertxt)\n",
    "mytxt[\"en\"] = getMsgLeng(mytxt, leng = \"en\")\n",
    "othertxt[\"en\"] = getMsgLeng(othertxt, leng = \"en\")\n",
    "\n",
    "fig = plt.figure()\n",
    "sub1 = fig.add_subplot(211)\n",
    "sub2 = fig.add_subplot(212)\n",
    "\n",
    "othertxt.groupby(\"DMY\")[\"en\"].sum().plot(ax = sub1, label = \"recieved en\")\n",
    "mytxt.groupby(\"DMY\")[\"en\"].sum().plot(ax = sub1, label = \"send en\")\n",
    "othertxt.groupby(\"DMY\")[\"ua\"].sum().plot(ax = sub2, label = \"recieved ua\")\n",
    "mytxt.groupby(\"DMY\")[\"ua\"].sum().plot(ax = sub2, label = \"send ua\")\n",
    "plt.sca(sub1)\n",
    "plt.title(\"Amount of English words\")\n",
    "plt.legend()\n",
    "plt.sca(sub2)\n",
    "plt.title(\"Amount of  Ukrainian words\")\n",
    "plt.legend()"
   ]
  },
  {
   "cell_type": "markdown",
   "id": "1503c081",
   "metadata": {},
   "source": [
    "22. Sentiment analysis. Average tone of message"
   ]
  },
  {
   "cell_type": "code",
   "execution_count": null,
   "id": "c5670911",
   "metadata": {},
   "outputs": [],
   "source": [
    "tone_dict = {}\n",
    "with open(\"tone-dict-uk-full.csv\", encoding=\"utf-8\") as file:\n",
    "    for line in file:\n",
    "        (key, value) = line.replace('\\n', '').split(\",\")\n",
    "        try:\n",
    "            tone_dict[key.lower()] = float(value)\n",
    "        except:\n",
    "            pass"
   ]
  },
  {
   "cell_type": "code",
   "execution_count": null,
   "id": "880ac0d6",
   "metadata": {},
   "outputs": [],
   "source": [
    "def getMsgTone(data):\n",
    "    msgTone = []\n",
    "    for ms in data[\"message\"].values:\n",
    "        mslist = re.sub(\"[^a-zа-яі]+\", ' ', str(ms).lower()).split(' ')\n",
    "        mslist = list(filter(lambda a: len(a) > 0 and a!='nan'and a!='–', mslist))\n",
    "        score = 0\n",
    "        for w in mslist:\n",
    "            if w in tone_dict:\n",
    "                score+=tone_dict[w]           \n",
    "        msgTone.append(score)\n",
    "    return msgTone"
   ]
  },
  {
   "cell_type": "code",
   "execution_count": null,
   "id": "4249db0a",
   "metadata": {},
   "outputs": [],
   "source": [
    "mytxt[\"tone\"] = getMsgTone(mytxt)\n",
    "othertxt[\"tone\"] = getMsgTone(othertxt)\n",
    "\n",
    "othertxt.groupby(\"DMY\")[\"tone\"].mean().plot(label = \"recieved\")\n",
    "mytxt.groupby(\"DMY\")[\"tone\"].mean().plot(label = \"send\")\n",
    "plt.legend()\n",
    "plt.title(\"Average message tone\")"
   ]
  },
  {
   "cell_type": "markdown",
   "id": "4231199b",
   "metadata": {},
   "source": [
    "23. Знаходження часу на добу, протягом якаго я можу надсилати повідомлення - середня різниця між першим та останім повідомленням в день"
   ]
  },
  {
   "cell_type": "code",
   "execution_count": null,
   "id": "99292bc4",
   "metadata": {},
   "outputs": [],
   "source": [
    "from datetime import timedelta\n",
    "from datetime import datetime\n",
    "def convert_itimes(d, hours):\n",
    "    mylist = []\n",
    "    for t in range(len(d[\"date\"].tolist())):\n",
    "        msdate = d[\"date\"].loc[d.index[t]][:19]\n",
    "        mylist.append(str(datetime.strptime(msdate, \"%Y-%m-%d %H:%M:%S\")+timedelta(hours = hours)))\n",
    "    return mylist\n",
    "\n",
    "def convert_iminutes(d):\n",
    "    mylist = []\n",
    "    for t in range(len(d[\"itime\"].tolist())):\n",
    "        msghour = int(d[\"itime\"].loc[d.index[t]][11:13])\n",
    "        msgminutes = int(d[\"itime\"].loc[d.index[t]][11:13])+60*msghour\n",
    "        mylist.append(msgminutes)\n",
    "    return mylist\n",
    "\n",
    "def convert_idays(d):\n",
    "    mylist = []\n",
    "    for t in range(len(d[\"itime\"].tolist())):\n",
    "        mylist.append(pd.to_datetime(d[\"itime\"].loc[d.index[t]][:10]))\n",
    "    return mylist\n",
    "\n",
    "\n",
    "def calcut_diff(d):\n",
    "    res = {}\n",
    "    for dmy in d[\"DMY\"].tolist():\n",
    "        if not dmy in res:\n",
    "            res[dmy] = float(d[d[\"DMY\"] == dmy]['minuts'].max() - d[d[\"DMY\"] == dmy]['minuts'].min())/60\n",
    "    return res"
   ]
  },
  {
   "cell_type": "code",
   "execution_count": null,
   "id": "1d029fe2",
   "metadata": {},
   "outputs": [],
   "source": [
    "dfs[\"itime\"] = convert_itimes(dfs, -3)\n",
    "\n",
    "dfs[\"minuts\"] = convert_iminutes(dfs)\n",
    "dfs[\"DMY\"] = convert_idays(dfs)"
   ]
  },
  {
   "cell_type": "code",
   "execution_count": null,
   "id": "13871180",
   "metadata": {},
   "outputs": [],
   "source": [
    "res = sorted(calcut_diff(dfs).items())\n",
    "x, y = zip(*res)\n",
    "plt.scatter(x, y, color = \"purple\", alpha = 0.3)\n",
    "plt.xticks(rotation=45, ha='right')\n",
    "plt.title(\"Active amount of hours per day\")"
   ]
  },
  {
   "cell_type": "markdown",
   "id": "68dd45b3",
   "metadata": {},
   "source": [
    "24. find topics of one day chatting with one user using TD-IDF"
   ]
  },
  {
   "cell_type": "code",
   "execution_count": null,
   "id": "e0e993a6",
   "metadata": {},
   "outputs": [],
   "source": [
    "def concat_docs(d):\n",
    "    mslists = d.groupby([\"dialog_id\", \"DMY\"])[\"message\"].apply(list).tolist()\n",
    "    res = []\n",
    "    for l in mslists:\n",
    "        l = [item for item in l if not pd.isnull(item)]\n",
    "        res.append(' '.join(l).lower())\n",
    "    return [item for item in res if item != ' ']\n",
    "\n",
    "        "
   ]
  },
  {
   "cell_type": "code",
   "execution_count": null,
   "id": "9c861ff4",
   "metadata": {},
   "outputs": [],
   "source": [
    "privates = mergedPrivate\n",
    "privates[\"DMY\"] = convert_times(privates)\n",
    "documents = concat_docs(privates)"
   ]
  },
  {
   "cell_type": "code",
   "execution_count": null,
   "id": "8341ea04",
   "metadata": {},
   "outputs": [],
   "source": [
    "import spacy \n",
    "\n",
    "nlp = spacy.load(\"uk_core_news_sm\")"
   ]
  },
  {
   "cell_type": "code",
   "execution_count": null,
   "id": "b863dbc5",
   "metadata": {},
   "outputs": [],
   "source": [
    "lemdocs = []\n",
    "listlems = []\n",
    "for doc in documents:\n",
    "    tokens = nlp(doc)\n",
    "    text = []\n",
    "    for token in tokens:\n",
    "        text.append(token.lemma_)\n",
    "    l = [item for item in text if len(item) > 1 and re.match(r'^[а-яА-ЯіІ]+$', item) and item not in ukr_stopwords]\n",
    "    if len(l)>0:\n",
    "        lemdocs.append(\" \".join(l))\n",
    "        listlems.append(l)\n",
    "\n",
    "\n"
   ]
  },
  {
   "cell_type": "code",
   "execution_count": null,
   "id": "7e9bbba0",
   "metadata": {},
   "outputs": [],
   "source": [
    "#!pip install scikit-learn"
   ]
  },
  {
   "cell_type": "code",
   "execution_count": null,
   "id": "b6f2ba1f",
   "metadata": {},
   "outputs": [],
   "source": [
    "import sklearn as sl\n",
    "from sklearn.feature_extraction.text import TfidfVectorizer"
   ]
  },
  {
   "cell_type": "code",
   "execution_count": null,
   "id": "ca935791",
   "metadata": {},
   "outputs": [],
   "source": [
    "tfIdfVectorizer=TfidfVectorizer(use_idf=True)\n",
    "tfIdf = tfIdfVectorizer.fit_transform(lemdocs)\n",
    "dftfidf = pd.DataFrame(tfIdf[0].T.todense(), index=tfIdfVectorizer.get_feature_names_out(), columns=[\"TF-IDF\"])\n",
    "dftfidf = dftfidf.sort_values('TF-IDF', ascending=False)\n",
    "dftfidf.head(25)"
   ]
  },
  {
   "cell_type": "code",
   "execution_count": null,
   "id": "7fe7d779",
   "metadata": {},
   "outputs": [],
   "source": [
    "topics = []\n",
    "for lems in listlems:\n",
    "    toplem = lems[0]\n",
    "    topi = 0.0\n",
    "    seclem = lems[-1]\n",
    "    seci = 0.0\n",
    "    for lem in lems:\n",
    "        if float(dftfidf.loc[lem])>topi:\n",
    "            seclem = toplem\n",
    "            seci = topi\n",
    "            topi = float(dftfidf.loc[lem])\n",
    "            toplem = lem\n",
    "    topics.append(f\"{toplem} {seclem}\")\n",
    "topics[:10]"
   ]
  },
  {
   "cell_type": "markdown",
   "id": "74fa616b",
   "metadata": {},
   "source": [
    "25. За допомогою TF-IDF аналізу, визначити найпопулярніші теми на які я спілкуюсь."
   ]
  },
  {
   "cell_type": "code",
   "execution_count": null,
   "id": "a9e9fe1e",
   "metadata": {},
   "outputs": [],
   "source": [
    "from collections import Counter\n",
    "top_topics = [key for key, value in Counter(topics).most_common()]\n",
    "top_topics[:20]"
   ]
  }
 ],
 "metadata": {
  "kernelspec": {
   "display_name": "Python 3 (ipykernel)",
   "language": "python",
   "name": "python3"
  },
  "language_info": {
   "codemirror_mode": {
    "name": "ipython",
    "version": 3
   },
   "file_extension": ".py",
   "mimetype": "text/x-python",
   "name": "python",
   "nbconvert_exporter": "python",
   "pygments_lexer": "ipython3",
   "version": "3.9.13"
  }
 },
 "nbformat": 4,
 "nbformat_minor": 5
}
